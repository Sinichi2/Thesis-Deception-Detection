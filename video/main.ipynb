{
 "cells": [
  {
   "cell_type": "code",
   "execution_count": null,
   "id": "c0151c87",
   "metadata": {},
   "outputs": [],
   "source": [
    "#libraries\n",
    "from loader import loader_many"
   ]
  },
  {
   "cell_type": "code",
   "execution_count": null,
   "id": "d2e43337",
   "metadata": {},
   "outputs": [],
   "source": [
    "TRUTH_DIR = os.path.expanduser(\"../dataset/RealLifeDeceptionDetection/Clips/Truthful\")\n",
    "DECEPTIVE_DIR = os.path.expanduser(\"../dataset/RealLifeDeceptionDetection/Clips/Deceptive\")\n",
    "\n",
    "videos, labels = loader_many([TRUTH_DIR, DECEPTIVE_DIR], target_size=(128,128), max_frames=30)"
   ]
  }
 ],
 "metadata": {
  "language_info": {
   "name": "python"
  }
 },
 "nbformat": 4,
 "nbformat_minor": 5
}
