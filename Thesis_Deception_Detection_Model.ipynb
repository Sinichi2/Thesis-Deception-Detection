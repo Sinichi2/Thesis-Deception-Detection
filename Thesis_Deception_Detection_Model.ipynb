{
  "cells": [
    {
      "cell_type": "markdown",
      "metadata": {
        "colab_type": "text",
        "id": "view-in-github"
      },
      "source": [
        "<a href=\"https://colab.research.google.com/github/Sinichi2/Thesis-Deception-Detection/blob/main/Thesis_Deception_Detection_Model.ipynb\" target=\"_parent\"><img src=\"https://colab.research.google.com/assets/colab-badge.svg\" alt=\"Open In Colab\"/></a>"
      ]
    },
    {
      "cell_type": "code",
      "execution_count": null,
      "metadata": {
        "id": "QSRTuzoP31OD"
      },
      "outputs": [],
      "source": [
        "# © 2025 Shiva Matthew Cruz. All rights reserved.\n",
        "# This code is part of the thesis “Language of Lies: Detecting Deception through a Multimodal Lens”\n",
        "# Use without permission is prohibited."
      ]
    },
    {
      "cell_type": "code",
      "execution_count": null,
      "metadata": {},
      "outputs": [],
      "source": [
        "from .tools import transcriber\n"
      ]
    },
    {
      "cell_type": "code",
      "execution_count": null,
      "metadata": {
        "id": "K1RWguGh69R-"
      },
      "outputs": [],
      "source": []
    }
  ],
  "metadata": {
    "colab": {
      "authorship_tag": "ABX9TyOAYr75euVArFgqeZbLqgY2",
      "include_colab_link": true,
      "mount_file_id": "1TWfJNqQ5Nda4DPGXvPdbwNJAE63tC357",
      "provenance": []
    },
    "kernelspec": {
      "display_name": "Python 3",
      "name": "python3"
    },
    "language_info": {
      "name": "python"
    }
  },
  "nbformat": 4,
  "nbformat_minor": 0
}
